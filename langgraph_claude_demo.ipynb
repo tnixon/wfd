{
 "cells": [
  {
   "cell_type": "markdown",
   "metadata": {},
   "source": [
    "# LangGraph with Claude API Demo\n",
    "\n",
    "This notebook demonstrates a basic LangGraph application that interacts with the Claude API."
   ]
  },
  {
   "cell_type": "code",
   "metadata": {
    "ExecuteTime": {
     "end_time": "2025-07-30T21:41:25.950389Z",
     "start_time": "2025-07-30T21:41:25.360518Z"
    }
   },
   "source": [
    "import os\n",
    "from typing import TypedDict, Annotated\n",
    "from langgraph.graph import StateGraph, END\n",
    "from langgraph.graph.message import add_messages\n",
    "from anthropic import Anthropic\n",
    "from dotenv import load_dotenv\n",
    "\n",
    "# Load environment variables\n",
    "load_dotenv()\n",
    "\n",
    "# Initialize Claude client\n",
    "client = Anthropic(api_key=os.getenv(\"ANTHROPIC_API_KEY\"))"
   ],
   "outputs": [],
   "execution_count": 1
  },
  {
   "cell_type": "code",
   "metadata": {
    "ExecuteTime": {
     "end_time": "2025-07-30T21:41:36.698116Z",
     "start_time": "2025-07-30T21:41:36.695211Z"
    }
   },
   "source": [
    "# Define the state structure\n",
    "class State(TypedDict):\n",
    "    messages: Annotated[list, add_messages]\n",
    "    user_input: str\n",
    "    claude_response: str"
   ],
   "outputs": [],
   "execution_count": 2
  },
  {
   "metadata": {},
   "cell_type": "code",
   "outputs": [],
   "execution_count": null,
   "source": ""
  },
  {
   "cell_type": "code",
   "metadata": {
    "ExecuteTime": {
     "end_time": "2025-07-30T21:45:30.280386Z",
     "start_time": "2025-07-30T21:45:30.277214Z"
    }
   },
   "source": [
    "# Which Claude model to use\n",
    "model_id = \"claude-sonnet-4-20250514\"\n",
    "\n",
    "# Define the Claude API call function\n",
    "def call_claude(state: State) -> State:\n",
    "    \"\"\"Call Claude API with the user input\"\"\"\n",
    "    user_message = state[\"user_input\"]\n",
    "    \n",
    "    try:\n",
    "        response = client.messages.create(\n",
    "            model=model_id,\n",
    "            max_tokens=1000,\n",
    "            messages=[\n",
    "                {\"role\": \"user\", \"content\": user_message}\n",
    "            ]\n",
    "        )\n",
    "        \n",
    "        claude_response = response.content[0].text\n",
    "        \n",
    "        return {\n",
    "            \"messages\": [{\"role\": \"assistant\", \"content\": claude_response}],\n",
    "            \"claude_response\": claude_response\n",
    "        }\n",
    "    except Exception as e:\n",
    "        error_msg = f\"Error calling Claude API: {str(e)}\"\n",
    "        return {\n",
    "            \"messages\": [{\"role\": \"assistant\", \"content\": error_msg}],\n",
    "            \"claude_response\": error_msg\n",
    "        }"
   ],
   "outputs": [],
   "execution_count": 7
  },
  {
   "cell_type": "code",
   "metadata": {
    "ExecuteTime": {
     "end_time": "2025-07-30T21:45:39.061177Z",
     "start_time": "2025-07-30T21:45:39.059037Z"
    }
   },
   "source": [
    "# Define a processing function\n",
    "def process_input(state: State) -> State:\n",
    "    \"\"\"Process the user input before sending to Claude\"\"\"\n",
    "    user_input = state[\"user_input\"]\n",
    "    \n",
    "    # Add some basic preprocessing (you can expand this)\n",
    "    processed_input = user_input.strip()\n",
    "    \n",
    "    return {\n",
    "        \"user_input\": processed_input,\n",
    "        \"messages\": [{\"role\": \"user\", \"content\": processed_input}]\n",
    "    }"
   ],
   "outputs": [],
   "execution_count": 8
  },
  {
   "cell_type": "code",
   "metadata": {
    "ExecuteTime": {
     "end_time": "2025-07-30T21:45:42.662013Z",
     "start_time": "2025-07-30T21:45:42.657094Z"
    }
   },
   "source": [
    "# Create the graph\n",
    "workflow = StateGraph(State)\n",
    "\n",
    "# Add nodes\n",
    "workflow.add_node(\"process_input\", process_input)\n",
    "workflow.add_node(\"call_claude\", call_claude)\n",
    "\n",
    "# Define the flow\n",
    "workflow.set_entry_point(\"process_input\")\n",
    "workflow.add_edge(\"process_input\", \"call_claude\")\n",
    "workflow.add_edge(\"call_claude\", END)\n",
    "\n",
    "# Compile the graph\n",
    "app = workflow.compile()"
   ],
   "outputs": [],
   "execution_count": 9
  },
  {
   "cell_type": "code",
   "metadata": {
    "ExecuteTime": {
     "end_time": "2025-07-30T21:45:49.989407Z",
     "start_time": "2025-07-30T21:45:45.327692Z"
    }
   },
   "source": [
    "# Test the application\n",
    "def run_claude_chat(user_input: str):\n",
    "    \"\"\"Run the LangGraph application with user input\"\"\"\n",
    "    initial_state = {\n",
    "        \"messages\": [],\n",
    "        \"user_input\": user_input,\n",
    "        \"claude_response\": \"\"\n",
    "    }\n",
    "    \n",
    "    result = app.invoke(initial_state)\n",
    "    return result[\"claude_response\"]\n",
    "\n",
    "# Example usage\n",
    "response = run_claude_chat(\"Hello! Can you tell me a fun fact about space?\")\n",
    "print(\"Claude's response:\")\n",
    "print(response)"
   ],
   "outputs": [
    {
     "name": "stdout",
     "output_type": "stream",
     "text": [
      "Claude's response:\n",
      "Here's a fascinating space fact: On Mars, sunsets are blue! \n",
      "\n",
      "While we're used to seeing orange and red sunsets on Earth due to our atmosphere scattering light, Mars has a much thinner atmosphere with fine dust particles that scatter light differently. This causes the sun to appear blue as it sets on the Red Planet - basically the opposite of what we see here on Earth!\n",
      "\n",
      "NASA's rovers have actually captured images of these otherworldly blue sunsets, giving us a beautiful glimpse of what an evening would look like if you were standing on Mars. 🌅\n"
     ]
    }
   ],
   "execution_count": 10
  },
  {
   "cell_type": "code",
   "execution_count": null,
   "metadata": {},
   "outputs": [],
   "source": [
    "# Interactive chat function\n",
    "def interactive_chat():\n",
    "    \"\"\"Simple interactive chat with Claude via LangGraph\"\"\"\n",
    "    print(\"Chat with Claude! (type 'quit' to exit)\")\n",
    "    \n",
    "    while True:\n",
    "        user_input = input(\"\\nYou: \")\n",
    "        \n",
    "        if user_input.lower() in ['quit', 'exit', 'bye']:\n",
    "            print(\"Goodbye!\")\n",
    "            break\n",
    "        \n",
    "        response = run_claude_chat(user_input)\n",
    "        print(f\"\\nClaude: {response}\")\n",
    "\n",
    "# Uncomment the line below to start interactive chat\n",
    "# interactive_chat()"
   ]
  },
  {
   "cell_type": "markdown",
   "metadata": {},
   "source": [
    "## Setup Instructions\n",
    "\n",
    "1. Create a `.env` file in your project directory with your Anthropic API key:\n",
    "   ```\n",
    "   ANTHROPIC_API_KEY=your_api_key_here\n",
    "   ```\n",
    "\n",
    "2. Run the cells in order to install dependencies and set up the LangGraph application.\n",
    "\n",
    "3. Use `run_claude_chat(\"your message\")` to send messages to Claude through the graph.\n",
    "\n",
    "4. Uncomment the last line in the interactive chat cell to start a conversation.\n",
    "\n",
    "## Graph Structure\n",
    "\n",
    "The application follows this flow:\n",
    "1. **process_input**: Preprocesses the user input\n",
    "2. **call_claude**: Makes the API call to Claude\n",
    "3. **END**: Returns the response\n",
    "\n",
    "You can extend this by adding more nodes for additional processing, memory, tool usage, etc."
   ]
  }
 ],
 "metadata": {
  "kernelspec": {
   "display_name": "Python 3",
   "language": "python",
   "name": "python3"
  },
  "language_info": {
   "codemirror_mode": {
    "name": "ipython",
    "version": 3
   },
   "file_extension": ".py",
   "mimetype": "text/x-python",
   "name": "python",
   "nbconvert_exporter": "python",
   "pygments_lexer": "ipython3",
   "version": "3.8.0"
  }
 },
 "nbformat": 4,
 "nbformat_minor": 4
}
