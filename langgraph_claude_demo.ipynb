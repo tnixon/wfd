{
 "cells": [
  {
   "cell_type": "markdown",
   "metadata": {},
   "source": [
    "# LangGraph with Claude API Demo\n",
    "\n",
    "This notebook demonstrates a basic LangGraph application that interacts with the Claude API."
   ]
  },
  {
   "cell_type": "code",
   "metadata": {},
   "source": "import os\nfrom dotenv import load_dotenv\nfrom agent import create_agent\n\n# Load environment variables\nload_dotenv()\n\n# Configuration\nANTHROPIC_API_KEY = os.getenv(\"ANTHROPIC_API_KEY\")\nMCP_SERVER_URL = \"http://0.0.0.0:3000/mcp\"\nMODEL_ID = \"claude-sonnet-4-20250514\"\n\n# Create the agent\nagent = create_agent(ANTHROPIC_API_KEY, MCP_SERVER_URL, MODEL_ID)",
   "outputs": [],
   "execution_count": null
  },
  {
   "cell_type": "code",
   "metadata": {},
   "source": "# Test the agent with memory functionality\nprint(\"Testing MCP-enabled Claude agent with memory...\")\n\n# Test 1: Initial restaurant search\nprint(\"\\n\" + \"=\"*60)\nprint(\"Test 1: Initial restaurant search\")\nprint(\"=\"*60)\nresponse1 = agent.chat(\"I want to find Italian restaurants in Taipei for a romantic dinner date tonight.\")\nprint(f\"Claude: {response1}\")\n\n# Test 2: Follow-up question (should remember context)\nprint(\"\\n\" + \"=\"*60)\nprint(\"Test 2: Follow-up question (should remember context)\")\nprint(\"=\"*60)\nresponse2 = agent.chat(\"What about the second restaurant you mentioned?\")\nprint(f\"Claude: {response2}\")\n\n# Test 3: Show conversation history\nprint(\"\\n\" + \"=\"*60)\nprint(\"Test 3: Conversation history\")\nprint(\"=\"*60)\nagent.show_conversation_history()",
   "outputs": [],
   "execution_count": null
  },
  {
   "metadata": {},
   "cell_type": "code",
   "source": "# Interactive chat session\nprint(\"Starting interactive chat session...\")\nprint(\"You can now chat with Claude using the MCP restaurant booking tools!\")\nprint(\"The agent will remember your conversation across multiple exchanges.\")\nprint()\n\n# Uncomment the line below to start interactive chat\n# agent.interactive_chat()\n\n# Or show the demo\nagent.demo_tools()",
   "outputs": [],
   "execution_count": null
  },
  {
   "metadata": {},
   "cell_type": "code",
   "source": "# Utility functions for testing different scenarios\n\ndef test_multi_turn_conversation():\n    \"\"\"Test a multi-turn conversation with different thread IDs\"\"\"\n    print(\"Testing multi-turn conversation scenarios...\")\n    \n    # Scenario 1: Restaurant search and follow-up\n    thread1 = \"scenario_1\"\n    print(f\"\\n--- Scenario 1 (Thread: {thread1}) ---\")\n    \n    response1 = agent.chat(\"Find me casual restaurants near Ximending in Taipei\", thread1)\n    print(f\"User: Find me casual restaurants near Ximending in Taipei\")\n    print(f\"Claude: {response1[:200]}...\")\n    \n    response2 = agent.chat(\"What are the opening hours for the first restaurant?\", thread1)\n    print(f\"\\nUser: What are the opening hours for the first restaurant?\")\n    print(f\"Claude: {response2[:200]}...\")\n    \n    # Scenario 2: Different conversation\n    thread2 = \"scenario_2\"\n    print(f\"\\n--- Scenario 2 (Thread: {thread2}) ---\")\n    \n    response3 = agent.chat(\"I need a business lunch venue for 6 people\", thread2)\n    print(f\"User: I need a business lunch venue for 6 people\")\n    print(f\"Claude: {response3[:200]}...\")\n    \n    # Show both conversation histories\n    print(f\"\\n--- History for {thread1} ---\")\n    agent.show_conversation_history(thread1)\n    \n    print(f\"\\n--- History for {thread2} ---\")\n    agent.show_conversation_history(thread2)\n\ndef test_tool_usage():\n    \"\"\"Test specific MCP tool usage scenarios\"\"\"\n    print(\"Testing MCP tool usage scenarios...\")\n    \n    scenarios = [\n        \"Search for romantic Italian restaurants in Taipei for 2 people\",\n        \"I want to check availability at a restaurant for tomorrow at 7 PM\",\n        \"Help me make a reservation for 4 people at 8 PM on Friday\"\n    ]\n    \n    thread_id = \"tool_test\"\n    for i, scenario in enumerate(scenarios, 1):\n        print(f\"\\n--- Tool Test {i} ---\")\n        print(f\"User: {scenario}\")\n        response = agent.chat(scenario, thread_id)\n        print(f\"Claude: {response[:300]}...\")\n\n# Run the utility functions\nprint(\"Available test functions:\")\nprint(\"- test_multi_turn_conversation(): Test multiple conversation threads\")\nprint(\"- test_tool_usage(): Test MCP tool usage scenarios\")\nprint(\"\\nCall these functions to run specific tests!\")",
   "outputs": [],
   "execution_count": null
  },
  {
   "cell_type": "code",
   "metadata": {},
   "source": "# Define initialization and processing functions\ndef initialize_mcp_session(state: State) -> State:\n    \"\"\"Initialize MCP session and load available tools - only run once\"\"\"\n    # Check if MCP is already initialized\n    if state.get(\"mcp_session_id\") and state.get(\"available_tools\"):\n        print(\"MCP already initialized, skipping...\")\n        return state\n    \n    success = mcp_client.initialize()\n    \n    if success:\n        print(f\"MCP session initialized successfully!\")\n        print(f\"Available tools: {list(mcp_client.tools.keys())}\")\n        return {\n            \"mcp_session_id\": mcp_client.session_id or \"\",\n            \"available_tools\": mcp_client.tools,\n            \"messages\": state.get(\"messages\", [])  # Preserve existing messages\n        }\n    else:\n        print(\"Failed to initialize MCP session\")\n        return {\n            \"mcp_session_id\": \"\",\n            \"available_tools\": {},\n            \"messages\": state.get(\"messages\", [])  # Preserve existing messages\n        }\n\ndef process_input(state: State) -> State:\n    \"\"\"Process the user input before sending to Claude\"\"\"\n    user_input = state[\"user_input\"]\n    \n    # Add some basic preprocessing\n    processed_input = user_input.strip()\n    \n    # Preserve all existing state and only update the processed input\n    return {\n        **state,  # Keep all existing state\n        \"user_input\": processed_input\n    }",
   "outputs": [],
   "execution_count": null
  },
  {
   "cell_type": "code",
   "metadata": {},
   "source": "# Enhanced chat function with memory support\ndef run_claude_chat_with_mcp(user_input: str, thread_id: str = \"default_conversation\"):\n    \"\"\"Run the LangGraph application with user input and MCP tools with memory\"\"\"\n    config = {\"configurable\": {\"thread_id\": thread_id}}\n    \n    # Get current conversation state from memory\n    try:\n        current_state = app.get_state(config)\n        if current_state.values:\n            # Continue existing conversation\n            print(f\"Debug - Continuing conversation with state keys: {list(current_state.values.keys())}\")\n            input_state = {\n                **current_state.values,\n                \"user_input\": user_input\n            }\n        else:\n            # Start new conversation\n            print(\"Debug - Starting new conversation\")\n            input_state = {\n                \"messages\": [],\n                \"user_input\": user_input,\n                \"claude_response\": \"\",\n                \"mcp_session_id\": \"\",\n                \"available_tools\": {}\n            }\n    except Exception as e:\n        print(f\"Debug - Exception getting state: {e}\")\n        # Fallback for new conversation\n        input_state = {\n            \"messages\": [],\n            \"user_input\": user_input,\n            \"claude_response\": \"\",\n            \"mcp_session_id\": \"\",\n            \"available_tools\": {}\n        }\n    \n    # Debug: Show message structure before processing\n    existing_messages = input_state.get(\"messages\", [])\n    print(f\"Debug - Existing messages count: {len(existing_messages)}\")\n    if existing_messages:\n        print(f\"Debug - First few messages: {existing_messages[:2]}\")\n    \n    result = app.invoke(input_state, config)\n    return result[\"claude_response\"]\n\n# Test the enhanced application with memory - start fresh\nprint(\"Testing MCP-enabled Claude agent with memory...\")\nprint(\"First, let's test with a fresh conversation thread...\")\n\n# Use a new thread ID to start clean\ntest_thread_id = \"test_memory_v2\"\nresponse1 = run_claude_chat_with_mcp(\"I want to find Italian restaurants in Taipei for a romantic dinner date tonight.\", test_thread_id)\nprint(\"\\nClaude's first response:\")\nprint(response1)\n\nprint(\"\\n\" + \"=\"*50)\nprint(\"Testing follow-up question (should remember context)...\")\nresponse2 = run_claude_chat_with_mcp(\"What about the second restaurant you mentioned?\", test_thread_id)\nprint(\"\\nClaude's follow-up response:\")\nprint(response2)",
   "outputs": [],
   "execution_count": null
  },
  {
   "metadata": {},
   "cell_type": "code",
   "source": [
    "config = {\"configurable\": {\"thread_id\": test_thread_id}}\n",
    "current_state = app.get_state(config)"
   ],
   "outputs": [],
   "execution_count": null
  },
  {
   "cell_type": "code",
   "metadata": {},
   "source": "# Interactive chat function with memory support\ndef interactive_chat_with_mcp(thread_id: str = \"interactive_session\"):\n    \"\"\"Interactive chat with Claude via LangGraph and MCP tools with memory\"\"\"\n    print(\"Chat with Claude (powered by MCP restaurant booking tools)!\")\n    print(\"Memory-enabled: Claude will remember our conversation!\")\n    print(\"Available commands:\")\n    print(\"- Ask for restaurant recommendations\")\n    print(\"- Request restaurant details\") \n    print(\"- Check availability and make reservations\")\n    print(\"- Type 'quit' to exit\")\n    print(\"- Type 'reset' to start a new conversation\")\n    print(\"-\" * 50)\n    \n    current_thread_id = thread_id\n    \n    while True:\n        user_input = input(\"\\nYou: \")\n        \n        if user_input.lower() in ['quit', 'exit', 'bye']:\n            print(\"Goodbye!\")\n            break\n        elif user_input.lower() == 'reset':\n            import uuid\n            current_thread_id = f\"session_{str(uuid.uuid4())[:8]}\"\n            print(f\"Started new conversation (thread: {current_thread_id})\")\n            continue\n        \n        try:\n            # Use memory-enabled chat function\n            response = run_claude_chat_with_mcp(user_input, current_thread_id)\n            print(f\"\\nClaude: {response}\")\n        except Exception as e:\n            print(f\"\\nError: {e}\")\n\n# Function to show conversation history\ndef show_conversation_history(thread_id: str = \"default_conversation\"):\n    \"\"\"Display the conversation history for a thread\"\"\"\n    config = {\"configurable\": {\"thread_id\": thread_id}}\n    try:\n        state = app.get_state(config)\n        if state.values and \"messages\" in state.values:\n            messages = state.values[\"messages\"]\n            print(f\"\\nConversation History (Thread: {thread_id}):\")\n            print(\"=\" * 50)\n            for i, msg in enumerate(messages, 1):\n                role = msg.get(\"role\", \"unknown\")\n                content = msg.get(\"content\", \"\")\n                if isinstance(content, str):\n                    print(f\"{i}. {role.upper()}: {content[:200]}{'...' if len(content) > 200 else ''}\")\n                else:\n                    print(f\"{i}. {role.upper()}: [Complex content]\")\n            print(\"=\" * 50)\n        else:\n            print(f\"No conversation history found for thread: {thread_id}\")\n    except Exception as e:\n        print(f\"Error retrieving history: {e}\")\n\n# Example tool usage demonstrations\ndef demo_mcp_tools():\n    \"\"\"Demonstrate the MCP tools functionality with memory\"\"\"\n    print(\"MCP Tools Demo with Memory\")\n    print(\"=\" * 50)\n    \n    examples = [\n        \"Find me romantic Italian restaurants in Taipei\",\n        \"Tell me more about the first restaurant\",\n        \"What about availability for tomorrow at 7pm?\",\n        \"Can you help me make a reservation?\"\n    ]\n    \n    print(\"Try these example conversations to see memory in action:\")\n    for i, example in enumerate(examples, 1):\n        print(f\"{i}. {example}\")\n    \n    print(\"\\nRun interactive_chat_with_mcp() to start chatting!\")\n    print(\"Use show_conversation_history() to see saved conversations!\")\n\n# Run the demo\ndemo_mcp_tools()",
   "outputs": [],
   "execution_count": null
  }
 ],
 "metadata": {
  "kernelspec": {
   "display_name": "Python 3",
   "language": "python",
   "name": "python3"
  },
  "language_info": {
   "codemirror_mode": {
    "name": "ipython",
    "version": 3
   },
   "file_extension": ".py",
   "mimetype": "text/x-python",
   "name": "python",
   "nbconvert_exporter": "python",
   "pygments_lexer": "ipython3",
   "version": "3.8.0"
  }
 },
 "nbformat": 4,
 "nbformat_minor": 4
}
