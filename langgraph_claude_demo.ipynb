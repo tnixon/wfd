{
 "cells": [
  {
   "cell_type": "markdown",
   "metadata": {},
   "source": [
    "# LangGraph with Claude API Demo\n",
    "\n",
    "This notebook demonstrates a basic LangGraph application that interacts with the Claude API."
   ]
  },
  {
   "cell_type": "code",
   "metadata": {
    "ExecuteTime": {
     "end_time": "2025-08-01T06:13:10.942738Z",
     "start_time": "2025-08-01T06:13:10.491018Z"
    }
   },
   "source": "import os\nfrom dotenv import load_dotenv\nfrom agent import create_agent\n\n# Load environment variables\nload_dotenv()\n\n# Configuration\nANTHROPIC_API_KEY = os.getenv(\"ANTHROPIC_API_KEY\")\nMCP_SERVER_URL = \"http://0.0.0.0:3000/mcp\"\nMODEL_ID = \"claude-3-5-sonnet-20241022\"  # Updated to use the latest model\n\n# Create the agent with ToolsNode pattern\nprint(\"Creating Claude MCP Agent with ToolsNode pattern...\")\nagent = create_agent(ANTHROPIC_API_KEY, MCP_SERVER_URL, MODEL_ID)\nprint(f\"Agent created with {len(agent.get_available_tools())} available tools\")",
   "outputs": [
    {
     "name": "stdout",
     "output_type": "stream",
     "text": [
      "Creating Claude MCP Agent with ToolsNode pattern...\n",
      "Initialized with session ID: 501ace72-51ba-4789-87c2-e21f2f213837\n",
      "Server info: {'name': 'restaurant-booking-server', 'version': '1.0.0'}\n",
      "Available tools: ['search_restaurants', 'get_restaurant_details', 'get_booking_instructions', 'check_availability', 'make_reservation']\n",
      "MCP session initialized successfully!\n",
      "Available tools: ['search_restaurants', 'get_restaurant_details', 'get_booking_instructions', 'check_availability', 'make_reservation']\n",
      "Created LangChain tool: search_restaurants\n",
      "Created LangChain tool: get_restaurant_details\n",
      "Created LangChain tool: get_booking_instructions\n",
      "Created LangChain tool: check_availability\n",
      "Created LangChain tool: make_reservation\n",
      "Agent created with 5 available tools\n"
     ]
    }
   ],
   "execution_count": 1
  },
  {
   "metadata": {},
   "cell_type": "markdown",
   "source": "# Test the fixed ToolsNode pattern with proper argument schemas\nprint(\"Testing Fixed ToolsNode Pattern...\")\n\n# Test 1: Simple restaurant search with required parameters\nprint(\"\\n\" + \"=\"*60)\nprint(\"Test 1: Restaurant search with required parameters (mood and event)\")\nprint(\"=\"*60)\nresponse1 = agent.chat(\"Find me romantic Italian restaurants in Taipei for a date night.\", \"test_fixed\")\nprint(f\"Claude: {response1}\")\n\n# Test 2: Follow-up question using memory\nprint(\"\\n\" + \"=\"*60)\nprint(\"Test 2: Follow-up question using conversation memory\")\nprint(\"=\"*60)\nresponse2 = agent.chat(\"What's the address of the first restaurant?\", \"test_fixed\")\nprint(f\"Claude: {response2}\")\n\n# Test 3: Show conversation history with proper message types\nprint(\"\\n\" + \"=\"*60)\nprint(\"Test 3: Conversation history showing tool usage\")\nprint(\"=\"*60)\nagent.show_conversation_history(\"test_fixed\")"
  },
  {
   "metadata": {
    "ExecuteTime": {
     "end_time": "2025-08-01T06:13:26.223467Z",
     "start_time": "2025-08-01T06:13:26.067561Z"
    }
   },
   "cell_type": "code",
   "source": [
    "from IPython.display import Image, display\n",
    "\n",
    "display(Image(agent.app.get_graph(xray=True).draw_mermaid_png()))"
   ],
   "outputs": [
    {
     "data": {
      "image/png": "[encoded data removed]",
      "text/plain": [
       "<IPython.core.display.Image object>"
      ]
     },
     "metadata": {},
     "output_type": "display_data"
    }
   ],
   "execution_count": 2
  },
  {
   "cell_type": "code",
   "metadata": {
    "ExecuteTime": {
     "end_time": "2025-08-01T06:13:46.228447Z",
     "start_time": "2025-08-01T06:13:34.305260Z"
    }
   },
   "source": [
    "# Test the ToolsNode pattern with memory functionality\n",
    "print(\"Testing ToolsNode pattern with memory...\")\n",
    "\n",
    "# Test 1: Restaurant search with automatic tool usage\n",
    "print(\"\\n\" + \"=\"*60)\n",
    "print(\"Test 1: Restaurant search (should automatically use search_restaurants tool)\")\n",
    "print(\"=\"*60)\n",
    "response1 = agent.chat(\"Find me romantic Italian restaurants in Taipei for tonight.\")\n",
    "print(f\"Claude: {response1}\")"
   ],
   "outputs": [
    {
     "name": "stdout",
     "output_type": "stream",
     "text": [
      "Testing ToolsNode pattern with memory...\n",
      "\n",
      "============================================================\n",
      "Test 1: Restaurant search (should automatically use search_restaurants tool)\n",
      "============================================================\n",
      "Debug: Calling MCP tool search_restaurants with args: {'placeName': 'Taipei', 'cuisineTypes': ['Italian'], 'mood': 'romantic', 'event': 'dating'}\n",
      "Claude: I've found several romantic Italian restaurants in Taipei that would be perfect for tonight. Here are the top recommendations:\n",
      "\n",
      "1. Boungiorno J Ristorante\n",
      "- Rating: 4.6/5 (424 reviews)\n",
      "- Price Level: Moderate ($$)\n",
      "- Address: Section 2, Anhe Rd, Da'an District\n",
      "- Phone: 02 2737 4715\n",
      "\n",
      "2. La Piola Cucina Italiana\n",
      "- Rating: 4.5/5 (886 reviews)\n",
      "- Price Level: Upscale ($$$)\n",
      "- Address: Lane 308, Guangfu S Rd, Da'an District\n",
      "- Phone: 02 2740 6638\n",
      "\n",
      "3. Solo Pasta\n",
      "- Rating: 4.5/5 (12,671 reviews)\n",
      "- Price Level: Moderate ($$)\n",
      "- Address: Section 1, Anhe Rd, Da'an District\n",
      "- Phone: 02 2775 3645\n",
      "\n",
      "All of these restaurants are currently open and accept reservations. Would you like me to check availability or get more detailed information about any of these restaurants? To help you make a reservation, I'll need:\n",
      "1. Which restaurant you prefer\n",
      "2. What time you'd like to dine\n",
      "3. How many people will be in your party\n",
      "4. Your name and contact number\n",
      "\n",
      "Just let me know which restaurant interests you, and I'll be happy to provide more details or help with a reservation!\n"
     ]
    }
   ],
   "execution_count": 3
  },
  {
   "metadata": {
    "ExecuteTime": {
     "end_time": "2025-08-01T06:14:57.283087Z",
     "start_time": "2025-08-01T06:14:52.202045Z"
    }
   },
   "cell_type": "code",
   "source": [
    "# Test 2: Follow-up question that should use conversation memory\n",
    "print(\"\\n\" + \"=\"*60)\n",
    "print(\"Test 2: Follow-up question (should remember previous search)\")\n",
    "print(\"=\"*60)\n",
    "response2 = agent.chat(\"What are the opening hours for the second restaurant?\")\n",
    "print(f\"Claude: {response2}\")"
   ],
   "outputs": [
    {
     "name": "stdout",
     "output_type": "stream",
     "text": [
      "\n",
      "============================================================\n",
      "Test 2: Follow-up question (should remember previous search)\n",
      "============================================================\n",
      "Debug: Calling MCP tool get_restaurant_details with args: {'placeId': 'ChIJW2hXnsirQjQReAynJ_RDVsY'}\n",
      "Claude: La Piola Cucina Italiana is currently open, but I notice that the detailed opening hours are not provided in the data. I recommend calling them directly at 02 2740 6638 to confirm their exact operating hours. The restaurant is reservable and currently open, but they require phone reservations rather than online booking.\n",
      "\n",
      "Would you like me to help you get booking instructions or check availability for a specific time at this restaurant?\n"
     ]
    }
   ],
   "execution_count": 4
  },
  {
   "metadata": {
    "ExecuteTime": {
     "end_time": "2025-08-01T06:18:12.399853Z",
     "start_time": "2025-08-01T06:17:59.032095Z"
    }
   },
   "cell_type": "code",
   "source": [
    "# Test 3: Tool usage with parameters\n",
    "print(\"\\n\" + \"=\"*60)\n",
    "print(\"Test 3: Specific tool usage with detailed parameters\")\n",
    "print(\"=\"*60)\n",
    "response3 = agent.chat(\"Search for casual Japanese restaurants near Ximending for a group of 4 people\")\n",
    "print(f\"Claude: {response3}\")"
   ],
   "outputs": [
    {
     "name": "stdout",
     "output_type": "stream",
     "text": [
      "\n",
      "============================================================\n",
      "Test 3: Specific tool usage with detailed parameters\n",
      "============================================================\n",
      "Debug: Calling MCP tool search_restaurants with args: {'placeName': 'Ximending', 'cuisineTypes': ['Japanese'], 'mood': 'casual', 'event': 'gathering'}\n",
      "Claude: I've found several great casual Japanese restaurants near Ximending that would be perfect for a group of 4. Here are the top recommendations:\n",
      "\n",
      "1. Nong Pu Japanese Cafe (農粹日式咖哩 西門店)\n",
      "- Rating: 4.9/5 (1,536 reviews)\n",
      "- Price Level: Moderate ($$)\n",
      "- Address: Section 2, Kaifeng St, Wanhua District\n",
      "- Phone: 02 2388 6940\n",
      "- Currently open\n",
      "- Very close to Ximending (258m)\n",
      "\n",
      "2. Katsuya\n",
      "- Rating: 4.7/5 (8,072 reviews)\n",
      "- Price Level: Moderate ($$)\n",
      "- Address: Zhongzheng District, 忠孝西路一段36號B1\n",
      "- Phone: 02 2311 3318\n",
      "- Currently open\n",
      "- About 1km from Ximending\n",
      "\n",
      "3. Dog Japanese Restaurant\n",
      "- Rating: 4.6/5 (6,116 reviews)\n",
      "- Price Level: Moderate ($$)\n",
      "- Address: Xining Rd, Wanhua District\n",
      "- Phone: 02 2311 9131\n",
      "- Currently open\n",
      "- Very close to Ximending (134m)\n",
      "- Accepts reservations\n",
      "\n",
      "All these restaurants are currently open and would be suitable for a group of 4. Would you like me to:\n",
      "1. Get more detailed information about any of these restaurants?\n",
      "2. Check availability for a specific time?\n",
      "3. Help make a reservation?\n",
      "\n",
      "Just let me know which restaurant interests you and what additional information you'd like!\n"
     ]
    }
   ],
   "execution_count": 5
  },
  {
   "metadata": {
    "ExecuteTime": {
     "end_time": "2025-08-01T06:18:43.609573Z",
     "start_time": "2025-08-01T06:18:43.604344Z"
    }
   },
   "cell_type": "code",
   "source": [
    "# Test 4: Show conversation history with LangChain message format\n",
    "print(\"\\n\" + \"=\"*60)\n",
    "print(\"Test 4: Conversation history (LangChain message format)\")\n",
    "print(\"=\"*60)\n",
    "agent.show_conversation_history()"
   ],
   "outputs": [
    {
     "name": "stdout",
     "output_type": "stream",
     "text": [
      "\n",
      "============================================================\n",
      "Test 4: Conversation history (LangChain message format)\n",
      "============================================================\n",
      "\n",
      "Conversation History (Thread: default_conversation):\n",
      "==================================================\n",
      "1. USER: Find me romantic Italian restaurants in Taipei for tonight.\n",
      "2. ASSISTANT: [{'text': \"I'll help you search for romantic Italian restaurants in Taipei for what sounds like a date night. Let me search using these criteria.\", 'type': 'text'}, {'id': 'toolu_01611Kgt41pnNPjgs814T...\n",
      "3. ToolMessage: content='{\\n  \"content\": [\\n    {\\n      \"type\": \"text\",\\n      \"text\": \"{\\\\n  \\\\\"searchCriteria\\\\\": {\\\\n    \\\\\"placeName\\\\\": \\\\\"Taipei\\\\\",\\\\n    \\\\\"cuisineTypes\\\\\": [\\\\n      \\\\\"Italian\\\\\"\\\\n    ],\\\\...\n",
      "4. ASSISTANT: I've found several romantic Italian restaurants in Taipei that would be perfect for tonight. Here are the top recommendations:\n",
      "\n",
      "1. Boungiorno J Ristorante\n",
      "- Rating: 4.6/5 (424 reviews)\n",
      "- Price Level: ...\n",
      "5. USER: What are the opening hours for the second restaurant?\n",
      "6. ASSISTANT: [{'text': \"I'll get the detailed information for La Piola Cucina Italiana.\", 'type': 'text'}, {'id': 'toolu_018ctagHiMWR99qgLnugXZXN', 'input': {'placeId': 'ChIJW2hXnsirQjQReAynJ_RDVsY'}, 'name': 'get...\n",
      "7. ToolMessage: content='{\\n  \"content\": [\\n    {\\n      \"type\": \"text\",\\n      \"text\": \"{\\\\n  \\\\\"placeId\\\\\": \\\\\"ChIJW2hXnsirQjQReAynJ_RDVsY\\\\\",\\\\n  \\\\\"name\\\\\": \\\\\"La Piola Cucina Italiana\\\\\",\\\\n  \\\\\"address\\\\\": \\\\\"N...\n",
      "8. ASSISTANT: La Piola Cucina Italiana is currently open, but I notice that the detailed opening hours are not provided in the data. I recommend calling them directly at 02 2740 6638 to confirm their exact operatin...\n",
      "9. USER: Search for casual Japanese restaurants near Ximending for a group of 4 people\n",
      "10. ASSISTANT: [{'text': \"I'll help you find casual Japanese restaurants near Ximending that would be good for a group gathering.\", 'type': 'text'}, {'id': 'toolu_01HJbPX5okb1koX5p3o8dWWf', 'input': {'placeName': 'X...\n",
      "11. ToolMessage: content='{\\n  \"content\": [\\n    {\\n      \"type\": \"text\",\\n      \"text\": \"{\\\\n  \\\\\"searchCriteria\\\\\": {\\\\n    \\\\\"placeName\\\\\": \\\\\"Ximending\\\\\",\\\\n    \\\\\"cuisineTypes\\\\\": [\\\\n      \\\\\"Japanese\\\\\"\\\\n    ...\n",
      "12. ASSISTANT: I've found several great casual Japanese restaurants near Ximending that would be perfect for a group of 4. Here are the top recommendations:\n",
      "\n",
      "1. Nong Pu Japanese Cafe (農粹日式咖哩 西門店)\n",
      "- Rating: 4.9/5 (1,...\n",
      "==================================================\n"
     ]
    }
   ],
   "execution_count": 6
  },
  {
   "metadata": {
    "ExecuteTime": {
     "end_time": "2025-08-01T06:26:37.182464Z",
     "start_time": "2025-08-01T06:26:37.177968Z"
    }
   },
   "cell_type": "code",
   "source": "# Demonstrate the ToolsNode pattern capabilities\nprint(\"ToolsNode Pattern Capabilities:\")\nprint(\"=\" * 50)\n\n# Show available tools\navailable_tools = agent.get_available_tools()\nprint(f\"Available MCP Tools ({len(available_tools)}):\")\nfor tool_name in available_tools:\n    print(f\"  - {tool_name}\")\n\nprint(\"\\nToolsNode Benefits:\")\nprint(\"✓ Automatic tool routing based on LLM tool calls\")\nprint(\"✓ Clean separation between agent logic and tool execution\")\nprint(\"✓ Built-in tool result handling and formatting\")\nprint(\"✓ Memory persistence across tool usage\")\nprint(\"✓ LangChain ecosystem compatibility\")\n\n# Interactive chat\nprint(f\"\\n{'-'*50}\")\nprint(\"Ready for interactive chat!\")\nprint(\"Uncomment the line below to start:\")\nprint(\"# agent.interactive_chat()\")\n\n# Or show demo\nprint(\"\\nOr run the demo to see example use cases:\")\nagent.demo_tools()",
   "outputs": [
    {
     "name": "stdout",
     "output_type": "stream",
     "text": [
      "ToolsNode Pattern Capabilities:\n",
      "==================================================\n",
      "Available MCP Tools (5):\n",
      "  - search_restaurants\n",
      "  - get_restaurant_details\n",
      "  - get_booking_instructions\n",
      "  - check_availability\n",
      "  - make_reservation\n",
      "\n",
      "ToolsNode Benefits:\n",
      "✓ Automatic tool routing based on LLM tool calls\n",
      "✓ Clean separation between agent logic and tool execution\n",
      "✓ Built-in tool result handling and formatting\n",
      "✓ Memory persistence across tool usage\n",
      "✓ LangChain ecosystem compatibility\n",
      "\n",
      "--------------------------------------------------\n",
      "Ready for interactive chat!\n",
      "Uncomment the line below to start:\n",
      "# agent.interactive_chat()\n",
      "\n",
      "Or run the demo to see example use cases:\n",
      "MCP Tools Demo with ToolsNode Pattern\n",
      "==================================================\n",
      "Available MCP Tools:\n",
      "- search_restaurants: Search for restaurants based on location, cuisine, keyword, mood, event, radius, price level, and locale\n",
      "- get_restaurant_details: Get comprehensive details about a specific restaurant using its place ID\n",
      "- get_booking_instructions: Get detailed instructions on how to make a reservation at a specific restaurant\n",
      "- check_availability: Check if a restaurant has availability for a specific date, time, and party size\n",
      "- make_reservation: Attempt to make a reservation at a restaurant\n",
      "\n",
      "Try these example conversations to see memory in action:\n",
      "1. Find me romantic Italian restaurants in Taipei\n",
      "2. Tell me more about the first restaurant\n",
      "3. What about availability for tomorrow at 7pm?\n",
      "4. Can you help me make a reservation?\n",
      "\n",
      "Use agent.interactive_chat() to start chatting!\n",
      "Use agent.show_conversation_history() to see saved conversations!\n"
     ]
    }
   ],
   "execution_count": 7
  },
  {
   "metadata": {
    "ExecuteTime": {
     "end_time": "2025-08-01T06:27:17.991473Z",
     "start_time": "2025-08-01T06:27:17.984511Z"
    }
   },
   "cell_type": "code",
   "source": "# Advanced testing utilities for ToolsNode pattern\n\ndef test_tool_workflow():\n    \"\"\"Test the complete tool workflow with detailed output\"\"\"\n    print(\"Testing Tool Workflow Step-by-Step:\")\n    print(\"=\" * 50)\n    \n    # Create a new thread for this test\n    test_thread = \"tool_workflow_test\"\n    \n    print(\"1. User request with tool requirement...\")\n    user_query = \"Search for upscale French restaurants in Taipei for a business dinner\"\n    print(f\"   Query: {user_query}\")\n    \n    response = agent.chat(user_query, test_thread)\n    print(f\"   Response: {response[:300]}...\")\n    \n    print(\"\\n2. Follow-up that should use memory...\")\n    followup = \"What's the phone number for the first restaurant?\"\n    print(f\"   Query: {followup}\")\n    \n    response2 = agent.chat(followup, test_thread)\n    print(f\"   Response: {response2[:300]}...\")\n    \n    print(\"\\n3. Show conversation history for this test:\")\n    agent.show_conversation_history(test_thread)\n\ndef test_multiple_tools():\n    \"\"\"Test using multiple different tools in sequence\"\"\"\n    print(\"\\nTesting Multiple Tool Usage:\")\n    print(\"=\" * 40)\n    \n    thread_id = \"multi_tool_test\"\n    \n    # Test each available tool\n    test_queries = [\n        \"Find romantic restaurants in Taipei\",\n        \"Get details for the first restaurant you found\",\n        \"Check availability for tomorrow at 7 PM\",\n        \"Help me make a reservation for 2 people\"\n    ]\n    \n    for i, query in enumerate(test_queries, 1):\n        print(f\"\\n{i}. {query}\")\n        response = agent.chat(query, thread_id)\n        print(f\"   → {response[:200]}...\")\n\ndef test_no_tool_conversation():\n    \"\"\"Test regular conversation that doesn't require tools\"\"\"\n    print(\"\\nTesting Non-Tool Conversation:\")\n    print(\"=\" * 35)\n    \n    thread_id = \"no_tool_test\"\n    \n    queries = [\n        \"What's the weather like today?\",\n        \"Tell me a joke about restaurants\",\n        \"What do you think about Taiwanese cuisine?\"\n    ]\n    \n    for query in queries:\n        print(f\"\\nQ: {query}\")\n        response = agent.chat(query, thread_id)\n        print(f\"A: {response[:200]}...\")\n\n# Available test functions\nprint(\"Available Test Functions:\")\nprint(\"- test_tool_workflow(): Complete tool workflow test\")\nprint(\"- test_multiple_tools(): Test multiple tool usage\")  \nprint(\"- test_no_tool_conversation(): Test non-tool conversations\")\nprint(\"\\nCall any of these functions to run specific tests!\")\nprint(\"Example: test_tool_workflow()\")",
   "outputs": [
    {
     "name": "stdout",
     "output_type": "stream",
     "text": [
      "Available Test Functions:\n",
      "- test_tool_workflow(): Complete tool workflow test\n",
      "- test_multiple_tools(): Test multiple tool usage\n",
      "- test_no_tool_conversation(): Test non-tool conversations\n",
      "\n",
      "Call any of these functions to run specific tests!\n",
      "Example: test_tool_workflow()\n"
     ]
    }
   ],
   "execution_count": 8
  }
 ],
 "metadata": {
  "kernelspec": {
   "display_name": "Python 3",
   "language": "python",
   "name": "python3"
  },
  "language_info": {
   "codemirror_mode": {
    "name": "ipython",
    "version": 3
   },
   "file_extension": ".py",
   "mimetype": "text/x-python",
   "name": "python",
   "nbconvert_exporter": "python",
   "pygments_lexer": "ipython3",
   "version": "3.8.0"
  }
 },
 "nbformat": 4,
 "nbformat_minor": 4
}
