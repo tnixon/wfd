{
 "cells": [
  {
   "cell_type": "markdown",
   "metadata": {},
   "source": [
    "# LangGraph with Claude API Demo\n",
    "\n",
    "This notebook demonstrates a basic LangGraph application that interacts with the Claude API."
   ]
  },
  {
   "cell_type": "code",
   "metadata": {
    "ExecuteTime": {
     "end_time": "2025-08-01T05:58:11.117059Z",
     "start_time": "2025-08-01T05:58:10.617346Z"
    }
   },
   "source": "import os\nfrom dotenv import load_dotenv\nfrom agent import create_agent\n\n# Load environment variables\nload_dotenv()\n\n# Configuration\nANTHROPIC_API_KEY = os.getenv(\"ANTHROPIC_API_KEY\")\nMCP_SERVER_URL = \"http://0.0.0.0:3000/mcp\"\nMODEL_ID = \"claude-3-5-sonnet-20241022\"  # Updated to use the latest model\n\n# Create the agent with ToolsNode pattern\nprint(\"Creating Claude MCP Agent with ToolsNode pattern...\")\nagent = create_agent(ANTHROPIC_API_KEY, MCP_SERVER_URL, MODEL_ID)\nprint(f\"Agent created with {len(agent.get_available_tools())} available tools\")",
   "outputs": [
    {
     "name": "stdout",
     "output_type": "stream",
     "text": [
      "Creating Claude MCP Agent with ToolsNode pattern...\n",
      "Initialized with session ID: b574e14a-039c-4037-993d-b25abf73cea5\n",
      "Server info: {'name': 'restaurant-booking-server', 'version': '1.0.0'}\n",
      "Available tools: ['search_restaurants', 'get_restaurant_details', 'get_booking_instructions', 'check_availability', 'make_reservation']\n",
      "MCP session initialized successfully!\n",
      "Available tools: ['search_restaurants', 'get_restaurant_details', 'get_booking_instructions', 'check_availability', 'make_reservation']\n",
      "Agent created with 5 available tools\n"
     ]
    }
   ],
   "execution_count": 1
  },
  {
   "metadata": {},
   "cell_type": "markdown",
   "source": "Display the agent graph"
  },
  {
   "metadata": {
    "ExecuteTime": {
     "end_time": "2025-08-01T05:59:31.251219Z",
     "start_time": "2025-08-01T05:59:31.085406Z"
    }
   },
   "cell_type": "code",
   "source": [
    "from IPython.display import Image, display\n",
    "\n",
    "display(Image(agent.app.get_graph(xray=True).draw_mermaid_png()))"
   ],
   "outputs": [
    {
     "data": {
      "image/png": "[encoded data removed]",
      "text/plain": [
       "<IPython.core.display.Image object>"
      ]
     },
     "metadata": {},
     "output_type": "display_data"
    }
   ],
   "execution_count": 3
  },
  {
   "cell_type": "code",
   "metadata": {
    "ExecuteTime": {
     "end_time": "2025-08-01T06:01:05.348973Z",
     "start_time": "2025-08-01T06:00:57.861840Z"
    }
   },
   "source": [
    "# Test the ToolsNode pattern with memory functionality\n",
    "print(\"Testing ToolsNode pattern with memory...\")\n",
    "\n",
    "# Test 1: Restaurant search with automatic tool usage\n",
    "print(\"\\n\" + \"=\"*60)\n",
    "print(\"Test 1: Restaurant search (should automatically use search_restaurants tool)\")\n",
    "print(\"=\"*60)\n",
    "response1 = agent.chat(\"Find me romantic Italian restaurants in Taipei for tonight.\")\n",
    "print(f\"Claude: {response1}\")"
   ],
   "outputs": [
    {
     "name": "stdout",
     "output_type": "stream",
     "text": [
      "Testing ToolsNode pattern with memory...\n",
      "\n",
      "============================================================\n",
      "Test 1: Restaurant search (should automatically use search_restaurants tool)\n",
      "============================================================\n",
      "Claude: I apologize, but I'm having trouble getting results for the search. To help you better, I would need:\n",
      "\n",
      "1. A more specific area within Taipei (if possible)\n",
      "2. What time you're planning to dine tonight\n",
      "3. How many people the reservation would be for\n",
      "\n",
      "Also, to ensure we get the best results, would you be open to:\n",
      "1. Other cuisines that offer romantic settings?\n",
      "2. Looking at a different date if tonight isn't available?\n",
      "\n",
      "Please provide some of these details, and I'll be happy to search again with the additional information.\n"
     ]
    }
   ],
   "execution_count": 4
  },
  {
   "metadata": {
    "ExecuteTime": {
     "end_time": "2025-08-01T06:01:28.287108Z",
     "start_time": "2025-08-01T06:01:25.596459Z"
    }
   },
   "cell_type": "code",
   "source": [
    "# Test 2: Follow-up question that should use conversation memory\n",
    "print(\"\\n\" + \"=\"*60)\n",
    "print(\"Test 2: Follow-up question (should remember previous search)\")\n",
    "print(\"=\"*60)\n",
    "response2 = agent.chat(\"What are the opening hours for the second restaurant?\")\n",
    "print(f\"Claude: {response2}\")"
   ],
   "outputs": [
    {
     "name": "stdout",
     "output_type": "stream",
     "text": [
      "\n",
      "============================================================\n",
      "Test 2: Follow-up question (should remember previous search)\n",
      "============================================================\n",
      "Claude: I apologize, but I don't have any restaurant results from the previous search to check the opening hours for. The searches didn't return any results, so there isn't a \"second restaurant\" whose details I can look up.\n",
      "\n",
      "Would you like to:\n",
      "1. Try a new search with different criteria?\n",
      "2. Look for a specific restaurant you have in mind?\n",
      "\n",
      "Please let me know your preference, and I'll be happy to help you find the information you need.\n"
     ]
    }
   ],
   "execution_count": 5
  },
  {
   "metadata": {
    "ExecuteTime": {
     "end_time": "2025-08-01T06:01:44.177610Z",
     "start_time": "2025-08-01T06:01:37.255137Z"
    }
   },
   "cell_type": "code",
   "source": [
    "# Test 3: Tool usage with parameters\n",
    "print(\"\\n\" + \"=\"*60)\n",
    "print(\"Test 3: Specific tool usage with detailed parameters\")\n",
    "print(\"=\"*60)\n",
    "response3 = agent.chat(\"Search for casual Japanese restaurants near Ximending for a group of 4 people\")\n",
    "print(f\"Claude: {response3}\")"
   ],
   "outputs": [
    {
     "name": "stdout",
     "output_type": "stream",
     "text": [
      "\n",
      "============================================================\n",
      "Test 3: Specific tool usage with detailed parameters\n",
      "============================================================\n",
      "Claude: I apologize, but I'm having trouble getting results from the search system. To help you better, could you please:\n",
      "\n",
      "1. Confirm if you'd like to search in a specific part of Ximending\n",
      "2. Let me know what time you're planning to dine\n",
      "3. Tell me if you have any specific preferences for the type of Japanese food (like sushi, ramen, izakaya, etc.)\n",
      "\n",
      "With these additional details, I can try to search again and find better matches for your group of 4. Also, please let me know if you'd be open to other cuisines in the area if we can't find suitable Japanese options.\n"
     ]
    }
   ],
   "execution_count": 6
  },
  {
   "metadata": {
    "ExecuteTime": {
     "end_time": "2025-08-01T06:01:48.254199Z",
     "start_time": "2025-08-01T06:01:48.249297Z"
    }
   },
   "cell_type": "code",
   "source": [
    "# Test 4: Show conversation history with LangChain message format\n",
    "print(\"\\n\" + \"=\"*60)\n",
    "print(\"Test 4: Conversation history (LangChain message format)\")\n",
    "print(\"=\"*60)\n",
    "agent.show_conversation_history()"
   ],
   "outputs": [
    {
     "name": "stdout",
     "output_type": "stream",
     "text": [
      "\n",
      "============================================================\n",
      "Test 4: Conversation history (LangChain message format)\n",
      "============================================================\n",
      "\n",
      "Conversation History (Thread: default_conversation):\n",
      "==================================================\n",
      "1. USER: Find me romantic Italian restaurants in Taipei for tonight.\n",
      "2. ASSISTANT: [{'text': \"I'll help you search for romantic Italian restaurants in Taipei. Let me search using these criteria.\", 'type': 'text'}, {'id': 'toolu_01G8wEavafSwBp5FMAmpm1cu', 'input': {'kwargs': {'locati...\n",
      "3. ToolMessage: content='Error: No result in response' name='search_restaurants' id='f366e79f-90a6-424a-8da0-a6706e4baa0c' tool_call_id='toolu_01G8wEavafSwBp5FMAmpm1cu'...\n",
      "4. ASSISTANT: [{'text': \"I apologize, but I'm not getting any results with those exact parameters. Let me try a broader search for Italian restaurants in Taipei, and we can focus on the romantic ones from the resul...\n",
      "5. ToolMessage: content='Error: No result in response' name='search_restaurants' id='1711406d-3560-47d6-bb04-f5dbc994b6a5' tool_call_id='toolu_01A3go2ahVwaSwcD39Sexcwu'...\n",
      "6. ASSISTANT: I apologize, but I'm having trouble getting results for the search. To help you better, I would need:\n",
      "\n",
      "1. A more specific area within Taipei (if possible)\n",
      "2. What time you're planning to dine tonight\n",
      "...\n",
      "7. USER: What are the opening hours for the second restaurant?\n",
      "8. ASSISTANT: I apologize, but I don't have any restaurant results from the previous search to check the opening hours for. The searches didn't return any results, so there isn't a \"second restaurant\" whose details...\n",
      "9. USER: Search for casual Japanese restaurants near Ximending for a group of 4 people\n",
      "10. ASSISTANT: [{'text': \"I'll search for casual Japanese restaurants near Ximending.\", 'type': 'text'}, {'id': 'toolu_01USYUswTuUJj6hycXiv6phg', 'input': {'kwargs': {'location': 'Ximending, Taipei', 'cuisine': 'Jap...\n",
      "11. ToolMessage: content='Error: No result in response' name='search_restaurants' id='e12b92b2-5ecd-46a7-b42d-8977be1cb7f6' tool_call_id='toolu_01USYUswTuUJj6hycXiv6phg'...\n",
      "12. ASSISTANT: [{'text': 'Let me try a simpler search to ensure we get results.', 'type': 'text'}, {'id': 'toolu_012e9215BvG24SbEz63h5Xym', 'input': {'kwargs': {'location': 'Ximending, Taipei', 'cuisine': 'Japanese'...\n",
      "13. ToolMessage: content='Error: No result in response' name='search_restaurants' id='185a81f5-81e5-4664-96e4-6806f0612fc3' tool_call_id='toolu_012e9215BvG24SbEz63h5Xym'...\n",
      "14. ASSISTANT: I apologize, but I'm having trouble getting results from the search system. To help you better, could you please:\n",
      "\n",
      "1. Confirm if you'd like to search in a specific part of Ximending\n",
      "2. Let me know wha...\n",
      "==================================================\n"
     ]
    }
   ],
   "execution_count": 7
  },
  {
   "metadata": {},
   "cell_type": "code",
   "source": "# Demonstrate the ToolsNode pattern capabilities\nprint(\"ToolsNode Pattern Capabilities:\")\nprint(\"=\" * 50)\n\n# Show available tools\navailable_tools = agent.get_available_tools()\nprint(f\"Available MCP Tools ({len(available_tools)}):\")\nfor tool_name in available_tools:\n    print(f\"  - {tool_name}\")\n\nprint(\"\\nToolsNode Benefits:\")\nprint(\"✓ Automatic tool routing based on LLM tool calls\")\nprint(\"✓ Clean separation between agent logic and tool execution\")\nprint(\"✓ Built-in tool result handling and formatting\")\nprint(\"✓ Memory persistence across tool usage\")\nprint(\"✓ LangChain ecosystem compatibility\")\n\n# Interactive chat\nprint(f\"\\n{'-'*50}\")\nprint(\"Ready for interactive chat!\")\nprint(\"Uncomment the line below to start:\")\nprint(\"# agent.interactive_chat()\")\n\n# Or show demo\nprint(\"\\nOr run the demo to see example use cases:\")\nagent.demo_tools()",
   "outputs": [],
   "execution_count": null
  },
  {
   "metadata": {},
   "cell_type": "code",
   "source": "# Advanced testing utilities for ToolsNode pattern\n\ndef test_tool_workflow():\n    \"\"\"Test the complete tool workflow with detailed output\"\"\"\n    print(\"Testing Tool Workflow Step-by-Step:\")\n    print(\"=\" * 50)\n    \n    # Create a new thread for this test\n    test_thread = \"tool_workflow_test\"\n    \n    print(\"1. User request with tool requirement...\")\n    user_query = \"Search for upscale French restaurants in Taipei for a business dinner\"\n    print(f\"   Query: {user_query}\")\n    \n    response = agent.chat(user_query, test_thread)\n    print(f\"   Response: {response[:300]}...\")\n    \n    print(\"\\n2. Follow-up that should use memory...\")\n    followup = \"What's the phone number for the first restaurant?\"\n    print(f\"   Query: {followup}\")\n    \n    response2 = agent.chat(followup, test_thread)\n    print(f\"   Response: {response2[:300]}...\")\n    \n    print(\"\\n3. Show conversation history for this test:\")\n    agent.show_conversation_history(test_thread)\n\ndef test_multiple_tools():\n    \"\"\"Test using multiple different tools in sequence\"\"\"\n    print(\"\\nTesting Multiple Tool Usage:\")\n    print(\"=\" * 40)\n    \n    thread_id = \"multi_tool_test\"\n    \n    # Test each available tool\n    test_queries = [\n        \"Find romantic restaurants in Taipei\",\n        \"Get details for the first restaurant you found\",\n        \"Check availability for tomorrow at 7 PM\",\n        \"Help me make a reservation for 2 people\"\n    ]\n    \n    for i, query in enumerate(test_queries, 1):\n        print(f\"\\n{i}. {query}\")\n        response = agent.chat(query, thread_id)\n        print(f\"   → {response[:200]}...\")\n\ndef test_no_tool_conversation():\n    \"\"\"Test regular conversation that doesn't require tools\"\"\"\n    print(\"\\nTesting Non-Tool Conversation:\")\n    print(\"=\" * 35)\n    \n    thread_id = \"no_tool_test\"\n    \n    queries = [\n        \"What's the weather like today?\",\n        \"Tell me a joke about restaurants\",\n        \"What do you think about Taiwanese cuisine?\"\n    ]\n    \n    for query in queries:\n        print(f\"\\nQ: {query}\")\n        response = agent.chat(query, thread_id)\n        print(f\"A: {response[:200]}...\")\n\n# Available test functions\nprint(\"Available Test Functions:\")\nprint(\"- test_tool_workflow(): Complete tool workflow test\")\nprint(\"- test_multiple_tools(): Test multiple tool usage\")  \nprint(\"- test_no_tool_conversation(): Test non-tool conversations\")\nprint(\"\\nCall any of these functions to run specific tests!\")\nprint(\"Example: test_tool_workflow()\")",
   "outputs": [],
   "execution_count": null
  },
  {
   "cell_type": "code",
   "metadata": {},
   "source": "# Define initialization and processing functions\ndef initialize_mcp_session(state: State) -> State:\n    \"\"\"Initialize MCP session and load available tools - only run once\"\"\"\n    # Check if MCP is already initialized\n    if state.get(\"mcp_session_id\") and state.get(\"available_tools\"):\n        print(\"MCP already initialized, skipping...\")\n        return state\n    \n    success = mcp_client.initialize()\n    \n    if success:\n        print(f\"MCP session initialized successfully!\")\n        print(f\"Available tools: {list(mcp_client.tools.keys())}\")\n        return {\n            \"mcp_session_id\": mcp_client.session_id or \"\",\n            \"available_tools\": mcp_client.tools,\n            \"messages\": state.get(\"messages\", [])  # Preserve existing messages\n        }\n    else:\n        print(\"Failed to initialize MCP session\")\n        return {\n            \"mcp_session_id\": \"\",\n            \"available_tools\": {},\n            \"messages\": state.get(\"messages\", [])  # Preserve existing messages\n        }\n\ndef process_input(state: State) -> State:\n    \"\"\"Process the user input before sending to Claude\"\"\"\n    user_input = state[\"user_input\"]\n    \n    # Add some basic preprocessing\n    processed_input = user_input.strip()\n    \n    # Preserve all existing state and only update the processed input\n    return {\n        **state,  # Keep all existing state\n        \"user_input\": processed_input\n    }",
   "outputs": [],
   "execution_count": null
  },
  {
   "cell_type": "code",
   "metadata": {},
   "source": "# Enhanced chat function with memory support\ndef run_claude_chat_with_mcp(user_input: str, thread_id: str = \"default_conversation\"):\n    \"\"\"Run the LangGraph application with user input and MCP tools with memory\"\"\"\n    config = {\"configurable\": {\"thread_id\": thread_id}}\n    \n    # Get current conversation state from memory\n    try:\n        current_state = app.get_state(config)\n        if current_state.values:\n            # Continue existing conversation\n            print(f\"Debug - Continuing conversation with state keys: {list(current_state.values.keys())}\")\n            input_state = {\n                **current_state.values,\n                \"user_input\": user_input\n            }\n        else:\n            # Start new conversation\n            print(\"Debug - Starting new conversation\")\n            input_state = {\n                \"messages\": [],\n                \"user_input\": user_input,\n                \"claude_response\": \"\",\n                \"mcp_session_id\": \"\",\n                \"available_tools\": {}\n            }\n    except Exception as e:\n        print(f\"Debug - Exception getting state: {e}\")\n        # Fallback for new conversation\n        input_state = {\n            \"messages\": [],\n            \"user_input\": user_input,\n            \"claude_response\": \"\",\n            \"mcp_session_id\": \"\",\n            \"available_tools\": {}\n        }\n    \n    # Debug: Show message structure before processing\n    existing_messages = input_state.get(\"messages\", [])\n    print(f\"Debug - Existing messages count: {len(existing_messages)}\")\n    if existing_messages:\n        print(f\"Debug - First few messages: {existing_messages[:2]}\")\n    \n    result = app.invoke(input_state, config)\n    return result[\"claude_response\"]\n\n# Test the enhanced application with memory - start fresh\nprint(\"Testing MCP-enabled Claude agent with memory...\")\nprint(\"First, let's test with a fresh conversation thread...\")\n\n# Use a new thread ID to start clean\ntest_thread_id = \"test_memory_v2\"\nresponse1 = run_claude_chat_with_mcp(\"I want to find Italian restaurants in Taipei for a romantic dinner date tonight.\", test_thread_id)\nprint(\"\\nClaude's first response:\")\nprint(response1)\n\nprint(\"\\n\" + \"=\"*50)\nprint(\"Testing follow-up question (should remember context)...\")\nresponse2 = run_claude_chat_with_mcp(\"What about the second restaurant you mentioned?\", test_thread_id)\nprint(\"\\nClaude's follow-up response:\")\nprint(response2)",
   "outputs": [],
   "execution_count": null
  },
  {
   "metadata": {},
   "cell_type": "code",
   "source": [
    "config = {\"configurable\": {\"thread_id\": test_thread_id}}\n",
    "current_state = app.get_state(config)"
   ],
   "outputs": [],
   "execution_count": null
  },
  {
   "cell_type": "code",
   "metadata": {},
   "source": "# Interactive chat function with memory support\ndef interactive_chat_with_mcp(thread_id: str = \"interactive_session\"):\n    \"\"\"Interactive chat with Claude via LangGraph and MCP tools with memory\"\"\"\n    print(\"Chat with Claude (powered by MCP restaurant booking tools)!\")\n    print(\"Memory-enabled: Claude will remember our conversation!\")\n    print(\"Available commands:\")\n    print(\"- Ask for restaurant recommendations\")\n    print(\"- Request restaurant details\") \n    print(\"- Check availability and make reservations\")\n    print(\"- Type 'quit' to exit\")\n    print(\"- Type 'reset' to start a new conversation\")\n    print(\"-\" * 50)\n    \n    current_thread_id = thread_id\n    \n    while True:\n        user_input = input(\"\\nYou: \")\n        \n        if user_input.lower() in ['quit', 'exit', 'bye']:\n            print(\"Goodbye!\")\n            break\n        elif user_input.lower() == 'reset':\n            import uuid\n            current_thread_id = f\"session_{str(uuid.uuid4())[:8]}\"\n            print(f\"Started new conversation (thread: {current_thread_id})\")\n            continue\n        \n        try:\n            # Use memory-enabled chat function\n            response = run_claude_chat_with_mcp(user_input, current_thread_id)\n            print(f\"\\nClaude: {response}\")\n        except Exception as e:\n            print(f\"\\nError: {e}\")\n\n# Function to show conversation history\ndef show_conversation_history(thread_id: str = \"default_conversation\"):\n    \"\"\"Display the conversation history for a thread\"\"\"\n    config = {\"configurable\": {\"thread_id\": thread_id}}\n    try:\n        state = app.get_state(config)\n        if state.values and \"messages\" in state.values:\n            messages = state.values[\"messages\"]\n            print(f\"\\nConversation History (Thread: {thread_id}):\")\n            print(\"=\" * 50)\n            for i, msg in enumerate(messages, 1):\n                role = msg.get(\"role\", \"unknown\")\n                content = msg.get(\"content\", \"\")\n                if isinstance(content, str):\n                    print(f\"{i}. {role.upper()}: {content[:200]}{'...' if len(content) > 200 else ''}\")\n                else:\n                    print(f\"{i}. {role.upper()}: [Complex content]\")\n            print(\"=\" * 50)\n        else:\n            print(f\"No conversation history found for thread: {thread_id}\")\n    except Exception as e:\n        print(f\"Error retrieving history: {e}\")\n\n# Example tool usage demonstrations\ndef demo_mcp_tools():\n    \"\"\"Demonstrate the MCP tools functionality with memory\"\"\"\n    print(\"MCP Tools Demo with Memory\")\n    print(\"=\" * 50)\n    \n    examples = [\n        \"Find me romantic Italian restaurants in Taipei\",\n        \"Tell me more about the first restaurant\",\n        \"What about availability for tomorrow at 7pm?\",\n        \"Can you help me make a reservation?\"\n    ]\n    \n    print(\"Try these example conversations to see memory in action:\")\n    for i, example in enumerate(examples, 1):\n        print(f\"{i}. {example}\")\n    \n    print(\"\\nRun interactive_chat_with_mcp() to start chatting!\")\n    print(\"Use show_conversation_history() to see saved conversations!\")\n\n# Run the demo\ndemo_mcp_tools()",
   "outputs": [],
   "execution_count": null
  }
 ],
 "metadata": {
  "kernelspec": {
   "display_name": "Python 3",
   "language": "python",
   "name": "python3"
  },
  "language_info": {
   "codemirror_mode": {
    "name": "ipython",
    "version": 3
   },
   "file_extension": ".py",
   "mimetype": "text/x-python",
   "name": "python",
   "nbconvert_exporter": "python",
   "pygments_lexer": "ipython3",
   "version": "3.8.0"
  }
 },
 "nbformat": 4,
 "nbformat_minor": 4
}
