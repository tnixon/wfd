{
 "cells": [
  {
   "cell_type": "markdown",
   "metadata": {},
   "source": [
    "# Simple Debug Notebook: MLFlow Tracing for Claude MCP Agent\n",
    "\n",
    "This is a simplified version that avoids problematic imports and focuses on core tracing functionality."
   ]
  },
  {
   "cell_type": "code",
   "metadata": {},
   "source": [
    "# Simple, robust imports\n",
    "import os\n",
    "import json\n",
    "import pandas as pd\n",
    "import matplotlib.pyplot as plt\n",
    "from datetime import datetime\n",
    "from typing import Dict, Any, List\n",
    "import tempfile\n",
    "import warnings\n",
    "warnings.filterwarnings('ignore')\n",
    "\n",
    "# Core MLFlow\n",
    "import mlflow\n",
    "from mlflow import MlflowClient\n",
    "\n",
    "# Our agent\n",
    "from dotenv import load_dotenv\n",
    "from agent import create_agent\n",
    "\n",
    "load_dotenv()\n",
    "print(\"✅ All imports successful\")"
   ],
   "outputs": [],
   "execution_count": null
  },
  {
   "cell_type": "code",
   "metadata": {},
   "source": [
    "# Simple MLFlow setup\n",
    "mlflow_dir = os.path.abspath(os.getenv(\"MLFLOW_DIR\", tempfile.mkdtemp(prefix=\"mlflow_debug_\")))\n",
    "mlflow_uri = f\"file://{mlflow_dir}\"\n",
    "\n",
    "mlflow.set_tracking_uri(mlflow_uri)\n",
    "experiment_name = \"claude_mcp_debug_simple\"\n",
    "mlflow.set_experiment(experiment_name)\n",
    "\n",
    "print(f\"✅ MLFlow setup complete\")\n",
    "print(f\"📁 Tracking URI: {mlflow_uri}\")\n",
    "print(f\"🧪 Experiment: {experiment_name}\")"
   ],
   "outputs": [],
   "execution_count": null
  },
  {
   "cell_type": "code",
   "metadata": {},
   "source": [
    "# Create agent\n",
    "ANTHROPIC_API_KEY = os.getenv(\"ANTHROPIC_API_KEY\")\n",
    "MCP_SERVER_URL = \"http://0.0.0.0:3000/mcp\"\n",
    "MODEL_ID = \"claude-3-5-sonnet-20241022\"\n",
    "\n",
    "print(\"Creating agent...\")\n",
    "agent = create_agent(ANTHROPIC_API_KEY, MCP_SERVER_URL, MODEL_ID)\n",
    "print(f\"✅ Agent created with {len(agent.get_available_tools())} tools\")\n",
    "print(f\"Available tools: {agent.get_available_tools()}\")"
   ],
   "outputs": [],
   "execution_count": null
  },
  {
   "metadata": {},
   "cell_type": "code",
   "source": [
    "# Enabling tracing for LangGraph (LangChain)\n",
    "mlflow.langchain.autolog()\n",
    "\n",
    "# Test with agent - this should now work without pydantic errors\n",
    "response = agent.chat(\"Find me romantic Italian restaurants near Laguna Beach, CA for tonight\")\n",
    "print(f\"Claude: {response}\")"
   ],
   "outputs": [],
   "execution_count": null
  },
  {
   "cell_type": "code",
   "metadata": {},
   "source": [
    "# Run test scenarios\n",
    "print(\"🧪 Running traced test scenarios\\n\")\n",
    "\n",
    "test_threads = [\n",
    "  [\n",
    "    \"Find me romantic Italian restaurants near Laguna Beach, CA for tonight\",\n",
    "    \"Sounds great, can you book a table for two for 7 PM?\",\n",
    "    \"The booking will be for 'Arthur Nemo', my number is 123-456-7890\"\n",
    "  ],\n",
    "  [\n",
    "    \"I need casual Japanese restaurants near Irvine, CA for lunch\",\n",
    "    \"What is the price range for the second restaurant?\",\n",
    "    \"Can you book a table for four at the second restaurant for 12:30pm?\",\n",
    "    \"Book it under the name Vince Van der Snook, phone: 123-456-7890\"\n",
    "  ],\n",
    "  [\n",
    "    \"What do you think about Taiwanese street food?\",\n",
    "    \"Can you recommend a good Taiwanese street food place near Costa Mesa, CA?\",\n",
    "    \"Do they offer takeout?\",\n",
    "    \"Can you check if they have vegetarian options?\",\n",
    "    \"Can I order online?\",\n",
    "  ]\n",
    "]\n",
    "\n",
    "for thread_idx, conversation in enumerate(test_threads, 1):\n",
    "    print(f\"\\n{'='*60}\")\n",
    "    print(f\"Test Thread {thread_idx}:\")\n",
    "\n",
    "    for i, user_input in enumerate(conversation, 1):\n",
    "        print(f\"User Input {i}: {user_input}\")\n",
    "        try:\n",
    "            response = agent.chat(user_input, f\"test_thread_{thread_idx}\")\n",
    "            print(f\"Claude Response: {response}\")\n",
    "        except Exception as e:\n",
    "            print(f\"Error: {e}\")\n",
    "\n",
    "print(f\"\\n🎯 Completed {len(test_threads)} test conversations\")"
   ],
   "outputs": [],
   "execution_count": null
  }
 ],
 "metadata": {
  "kernelspec": {
   "display_name": "Python 3",
   "language": "python",
   "name": "python3"
  },
  "language_info": {
   "codemirror_mode": {
    "name": "ipython",
    "version": 3
   },
   "file_extension": ".py",
   "mimetype": "text/x-python",
   "name": "python",
   "nbconvert_exporter": "python",
   "pygments_lexer": "ipython3",
   "version": "3.11.0"
  }
 },
 "nbformat": 4,
 "nbformat_minor": 4
}
