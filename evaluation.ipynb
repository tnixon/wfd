{
 "cells": [
  {
   "cell_type": "markdown",
   "metadata": {},
   "source": [
    "# Evaluation Notebook: MLFlow Evaluation for WFD Agent\n",
    "\n",
    "We focus on a few simple metrics"
   ]
  },
  {
   "cell_type": "code",
   "metadata": {
    "ExecuteTime": {
     "end_time": "2025-08-05T03:54:41.803029Z",
     "start_time": "2025-08-05T03:54:40.715708Z"
    }
   },
   "source": [
    "# Simple, robust imports\n",
    "import os\n",
    "import tempfile\n",
    "import warnings\n",
    "from typing import List\n",
    "import pandas as pd\n",
    "\n",
    "warnings.filterwarnings('ignore')\n",
    "\n",
    "# Core MLFlow\n",
    "import mlflow\n",
    "\n",
    "# Our agent\n",
    "from dotenv import load_dotenv\n",
    "from agent import create_agent\n",
    "\n",
    "load_dotenv()\n",
    "print(\"✅ All imports successful\")"
   ],
   "outputs": [
    {
     "name": "stdout",
     "output_type": "stream",
     "text": [
      "✅ All imports successful\n"
     ]
    }
   ],
   "execution_count": 1
  },
  {
   "cell_type": "code",
   "metadata": {
    "ExecuteTime": {
     "end_time": "2025-08-05T03:54:41.818733Z",
     "start_time": "2025-08-05T03:54:41.807269Z"
    }
   },
   "source": [
    "# Simple MLFlow setup\n",
    "mlflow_dir = os.path.abspath(os.getenv(\"MLFLOW_DIR\", tempfile.mkdtemp(prefix=\"mlflow_debug_\")))\n",
    "mlflow_uri = f\"file://{mlflow_dir}\"\n",
    "\n",
    "mlflow.set_tracking_uri(mlflow_uri)\n",
    "experiment_name = \"wfd_agent_evaluation\"\n",
    "mlflow.set_experiment(experiment_name)\n",
    "\n",
    "print(f\"✅ MLFlow setup complete\")\n",
    "print(f\"📁 Tracking URI: {mlflow_uri}\")\n",
    "print(f\"🧪 Experiment: {experiment_name}\")"
   ],
   "outputs": [
    {
     "name": "stderr",
     "output_type": "stream",
     "text": [
      "WARNING:root:Malformed experiment 'mlruns'. Detailed error Yaml file '/Users/corvi42/Projects/wfd/mlflow_data/mlruns/meta.yaml' does not exist.\n",
      "Traceback (most recent call last):\n",
      "  File \"/Users/corvi42/Projects/wfd/venv/lib/python3.11/site-packages/mlflow/store/tracking/file_store.py\", line 366, in search_experiments\n",
      "    exp = self._get_experiment(exp_id, view_type)\n",
      "          ^^^^^^^^^^^^^^^^^^^^^^^^^^^^^^^^^^^^^^^\n",
      "  File \"/Users/corvi42/Projects/wfd/venv/lib/python3.11/site-packages/mlflow/store/tracking/file_store.py\", line 464, in _get_experiment\n",
      "    meta = FileStore._read_yaml(experiment_dir, FileStore.META_DATA_FILE_NAME)\n",
      "           ^^^^^^^^^^^^^^^^^^^^^^^^^^^^^^^^^^^^^^^^^^^^^^^^^^^^^^^^^^^^^^^^^^^\n",
      "  File \"/Users/corvi42/Projects/wfd/venv/lib/python3.11/site-packages/mlflow/store/tracking/file_store.py\", line 1634, in _read_yaml\n",
      "    return _read_helper(root, file_name, attempts_remaining=retries)\n",
      "           ^^^^^^^^^^^^^^^^^^^^^^^^^^^^^^^^^^^^^^^^^^^^^^^^^^^^^^^^^\n",
      "  File \"/Users/corvi42/Projects/wfd/venv/lib/python3.11/site-packages/mlflow/store/tracking/file_store.py\", line 1627, in _read_helper\n",
      "    result = read_yaml(root, file_name)\n",
      "             ^^^^^^^^^^^^^^^^^^^^^^^^^^\n",
      "  File \"/Users/corvi42/Projects/wfd/venv/lib/python3.11/site-packages/mlflow/utils/yaml_utils.py\", line 107, in read_yaml\n",
      "    raise MissingConfigException(f\"Yaml file '{file_path}' does not exist.\")\n",
      "mlflow.exceptions.MissingConfigException: Yaml file '/Users/corvi42/Projects/wfd/mlflow_data/mlruns/meta.yaml' does not exist.\n"
     ]
    },
    {
     "name": "stdout",
     "output_type": "stream",
     "text": [
      "✅ MLFlow setup complete\n",
      "📁 Tracking URI: file:///Users/corvi42/Projects/wfd/mlflow_data\n",
      "🧪 Experiment: wfd_agent_evaluation\n"
     ]
    }
   ],
   "execution_count": 2
  },
  {
   "cell_type": "code",
   "metadata": {
    "ExecuteTime": {
     "end_time": "2025-08-05T03:54:41.943990Z",
     "start_time": "2025-08-05T03:54:41.919843Z"
    }
   },
   "source": [
    "# Create agent\n",
    "ANTHROPIC_API_KEY = os.getenv(\"ANTHROPIC_API_KEY\")\n",
    "MCP_SERVER_URL = \"http://0.0.0.0:3000/mcp\"\n",
    "MODEL_ID = \"claude-3-5-sonnet-20241022\"\n",
    "\n",
    "print(\"Creating agent...\")\n",
    "agent = create_agent(ANTHROPIC_API_KEY, MCP_SERVER_URL, MODEL_ID)\n",
    "print(f\"✅ Agent created with {len(agent.get_available_tools())} tools\")\n",
    "print(f\"Available tools: {agent.get_available_tools()}\")"
   ],
   "outputs": [
    {
     "name": "stdout",
     "output_type": "stream",
     "text": [
      "Creating agent...\n",
      "Initialized with session ID: 0bb82f4f-5cbb-4262-bb88-d806397c53e9\n",
      "Server info: {'name': 'restaurant-booking-server', 'version': '1.0.0'}\n",
      "Available tools: ['search_restaurants', 'get_restaurant_details', 'get_booking_instructions', 'check_availability', 'make_reservation']\n",
      "MCP session initialized successfully!\n",
      "Available tools: ['search_restaurants', 'get_restaurant_details', 'get_booking_instructions', 'check_availability', 'make_reservation']\n",
      "Created LangChain tool: search_restaurants\n",
      "Created LangChain tool: get_restaurant_details\n",
      "Created LangChain tool: get_booking_instructions\n",
      "Created LangChain tool: check_availability\n",
      "Created LangChain tool: make_reservation\n",
      "✅ Agent created with 5 tools\n",
      "Available tools: ['search_restaurants', 'get_restaurant_details', 'get_booking_instructions', 'check_availability', 'make_reservation']\n"
     ]
    }
   ],
   "execution_count": 3
  },
  {
   "cell_type": "code",
   "metadata": {
    "ExecuteTime": {
     "end_time": "2025-08-05T03:57:39.192535Z",
     "start_time": "2025-08-05T03:54:41.952766Z"
    }
   },
   "source": [
    "from mlflow.entities import SpanType\n",
    "\n",
    "# Run test scenarios\n",
    "print(\"🧪 Evaluating test scenarios\\n\")\n",
    "\n",
    "test_threads = [\n",
    "  [\n",
    "    \"Find me romantic Italian restaurants near Laguna Beach, CA for tonight\",\n",
    "    \"Sounds great, can you book a table for two for 7 PM?\",\n",
    "    \"The booking will be for 'Arthur Nemo', my number is 123-456-7890\"\n",
    "  ],\n",
    "  [\n",
    "    \"I need casual Japanese restaurants near Irvine, CA for lunch\",\n",
    "    \"What is the price range for the second restaurant?\",\n",
    "    \"Can you book a table for four at the second restaurant for 12:30pm?\",\n",
    "    \"Book it under the name Vince Van der Snook, phone: 123-456-7890\"\n",
    "  ],\n",
    "  [\n",
    "    \"What do you think about Taiwanese street food?\",\n",
    "    \"Can you recommend a good Taiwanese street food place near Costa Mesa, CA?\",\n",
    "    \"Do they offer takeout?\",\n",
    "    \"Can you check if they have vegetarian options?\",\n",
    "    \"Can I order online?\",\n",
    "  ]\n",
    "]\n",
    "\n",
    "@mlflow.trace(span_type=SpanType.CHAIN, name=\"Run Test Threads\")\n",
    "def run_conversation(conversation: List[str], thread_id: str) -> List[str]:\n",
    "    responses = []\n",
    "    # add the thread_id as an attbitute to the span\n",
    "    mlflow.set_tag(\"thread_id\", thread_id)\n",
    "    for i, user_input in enumerate(conversation, 1):\n",
    "        responses.append(agent.chat(user_input, thread_id))\n",
    "    return responses\n",
    "\n",
    "# Run the conversations and flatten the results\n",
    "inputs = []\n",
    "conversation_results = []\n",
    "for i, user_prompts in enumerate(test_threads, 1):\n",
    "    print(f\"Running conversation {i} with {len(user_prompts)} messages\")\n",
    "    responses = run_conversation(user_prompts, thread_id=f\"thread_{i}\")\n",
    "    inputs.append(\"\\n\".join(user_prompts))\n",
    "    conversation_results.append(\"\\n\".join(responses))\n",
    "\n",
    "# eval_data = pd.DataFrame({\n",
    "#     \"input\": inputs,\n",
    "#     \"output\": conversation_results  # Changed from \"agent_response\" to \"output\" for MLflow compatibility\n",
    "# })\n",
    "#\n",
    "# print(f\"✅ Created evaluation dataset with {len(eval_data)} examples\")\n",
    "# display(eval_data)"
   ],
   "outputs": [
    {
     "name": "stdout",
     "output_type": "stream",
     "text": [
      "🧪 Evaluating test scenarios\n",
      "\n",
      "Running conversation 1 with 3 messages\n",
      "Debug: Calling MCP tool search_restaurants with args: {'placeName': 'Laguna Beach, CA', 'cuisineTypes': ['Italian'], 'mood': 'romantic', 'event': 'dating'}\n",
      "Debug: Calling MCP tool check_availability with args: {'placeId': 'ChIJ1ej6G7Xl3IAR0UsC5rutZLg', 'dateTime': '2025-08-04T19:00:00', 'partySize': 2.0}\n",
      "Debug: Calling MCP tool check_availability with args: {'placeId': 'ChIJX5-mVDXk3IAR9rCbdYCI56o', 'dateTime': '2025-08-04T19:00:00', 'partySize': 2.0}\n",
      "Debug: Calling MCP tool get_booking_instructions with args: {'placeId': 'ChIJ1ej6G7Xl3IAR0UsC5rutZLg'}\n",
      "Debug: Calling MCP tool get_booking_instructions with args: {'placeId': 'ChIJX5-mVDXk3IAR9rCbdYCI56o'}\n",
      "Debug: Calling MCP tool make_reservation with args: {'placeId': 'ChIJX5-mVDXk3IAR9rCbdYCI56o', 'dateTime': '2025-08-04T19:00:00', 'partySize': 2.0, 'contactName': 'Arthur Nemo', 'contactPhone': '123-456-7890'}\n",
      "Running conversation 2 with 4 messages\n",
      "Debug: Calling MCP tool search_restaurants with args: {'placeName': 'Irvine, CA', 'cuisineTypes': ['Japanese'], 'mood': 'casual', 'event': 'casual'}\n",
      "Debug: Calling MCP tool get_restaurant_details with args: {'placeId': 'ChIJEzZ2QzTc3IARYBwzNt8686Y'}\n",
      "Debug: Calling MCP tool check_availability with args: {'placeId': 'ChIJEzZ2QzTc3IARYBwzNt8686Y', 'dateTime': '2025-08-05T12:30:00', 'partySize': 4.0}\n",
      "Debug: Calling MCP tool make_reservation with args: {'placeId': 'ChIJEzZ2QzTc3IARYBwzNt8686Y', 'dateTime': '2025-08-05T12:30:00', 'partySize': 4.0, 'contactName': 'Vince Van der Snook', 'contactPhone': '123-456-7890'}\n",
      "Running conversation 3 with 5 messages\n",
      "Debug: Calling MCP tool search_restaurants with args: {'placeName': 'Costa Mesa, CA', 'cuisineTypes': ['Taiwanese'], 'mood': 'casual', 'event': 'casual', 'radius': 5000.0}\n",
      "Debug: Calling MCP tool get_restaurant_details with args: {'placeId': 'ChIJh6vomZ_f3IAR06xXCLHZy0A'}\n",
      "Debug: Calling MCP tool get_restaurant_details with args: {'placeId': 'ChIJ184igS_f3IARs2WpZQX4IYI'}\n",
      "Debug: Calling MCP tool get_restaurant_details with args: {'placeId': 'ChIJF54QRfPe3IARev955iG3SXk'}\n",
      "Debug: Calling MCP tool search_restaurants with args: {'placeName': 'Costa Mesa, CA', 'cuisineTypes': ['Taiwanese'], 'keyword': 'vegetarian', 'mood': 'casual', 'event': 'casual'}\n",
      "Debug: Calling MCP tool get_booking_instructions with args: {'placeId': 'ChIJ184igS_f3IARs2WpZQX4IYI'}\n",
      "Debug: Calling MCP tool get_booking_instructions with args: {'placeId': 'ChIJh6vomZ_f3IAR06xXCLHZy0A'}\n",
      "Debug: Calling MCP tool get_booking_instructions with args: {'placeId': 'ChIJF54QRfPe3IARev955iG3SXk'}\n"
     ]
    }
   ],
   "execution_count": 4
  },
  {
   "metadata": {
    "ExecuteTime": {
     "end_time": "2025-08-05T05:28:12.961515Z",
     "start_time": "2025-08-05T05:28:12.955493Z"
    }
   },
   "cell_type": "code",
   "source": [
    "eval_data = pd.DataFrame({\n",
    "    \"inputs\": inputs,\n",
    "    \"agent_response\": conversation_results\n",
    "})\n",
    "\n",
    "display(eval_data)"
   ],
   "outputs": [
    {
     "data": {
      "text/plain": [
       "                                              inputs  \\\n",
       "0  Find me romantic Italian restaurants near Lagu...   \n",
       "1  I need casual Japanese restaurants near Irvine...   \n",
       "2  What do you think about Taiwanese street food?...   \n",
       "\n",
       "                                      agent_response  \n",
       "0  I've found several romantic restaurants in Lag...  \n",
       "1  I've found three great casual Japanese restaur...  \n",
       "2  I apologize, but I should mention that I'm pri...  "
      ],
      "text/html": [
       "<div>\n",
       "<style scoped>\n",
       "    .dataframe tbody tr th:only-of-type {\n",
       "        vertical-align: middle;\n",
       "    }\n",
       "\n",
       "    .dataframe tbody tr th {\n",
       "        vertical-align: top;\n",
       "    }\n",
       "\n",
       "    .dataframe thead th {\n",
       "        text-align: right;\n",
       "    }\n",
       "</style>\n",
       "<table border=\"1\" class=\"dataframe\">\n",
       "  <thead>\n",
       "    <tr style=\"text-align: right;\">\n",
       "      <th></th>\n",
       "      <th>inputs</th>\n",
       "      <th>agent_response</th>\n",
       "    </tr>\n",
       "  </thead>\n",
       "  <tbody>\n",
       "    <tr>\n",
       "      <th>0</th>\n",
       "      <td>Find me romantic Italian restaurants near Lagu...</td>\n",
       "      <td>I've found several romantic restaurants in Lag...</td>\n",
       "    </tr>\n",
       "    <tr>\n",
       "      <th>1</th>\n",
       "      <td>I need casual Japanese restaurants near Irvine...</td>\n",
       "      <td>I've found three great casual Japanese restaur...</td>\n",
       "    </tr>\n",
       "    <tr>\n",
       "      <th>2</th>\n",
       "      <td>What do you think about Taiwanese street food?...</td>\n",
       "      <td>I apologize, but I should mention that I'm pri...</td>\n",
       "    </tr>\n",
       "  </tbody>\n",
       "</table>\n",
       "</div>"
      ]
     },
     "metadata": {},
     "output_type": "display_data"
    }
   ],
   "execution_count": 12
  },
  {
   "metadata": {
    "ExecuteTime": {
     "end_time": "2025-08-05T05:28:23.528283Z",
     "start_time": "2025-08-05T05:28:17.546464Z"
    }
   },
   "cell_type": "code",
   "source": [
    "# configure some LLM-as-a-judge evaluators\n",
    "answer_relevance = mlflow.metrics.genai.answer_relevance(model=\"openai:/gpt-4o\")\n",
    "\n",
    "# start MLFlow run\n",
    "if mlflow.active_run() is not None:\n",
    "    mlflow.end_run()  # End any previous run before starting a new one\n",
    "with mlflow.start_run() as run:\n",
    "    mlflow.set_tag(\"run_type\", \"evaluation\")\n",
    "    mlflow.evaluate(\n",
    "      data=eval_data,\n",
    "      predictions=\"agent_response\",\n",
    "      model_type=\"text\",\n",
    "      extra_metrics=[answer_relevance],\n",
    "    )"
   ],
   "outputs": [
    {
     "name": "stderr",
     "output_type": "stream",
     "text": [
      "2025/08/04 22:28:17 INFO mlflow.models.evaluation.default_evaluator: Testing metrics on first row...\n",
      "100%|██████████| 1/1 [00:02<00:00,  2.41s/it]\n",
      "100%|██████████| 3/3 [00:02<00:00,  1.06it/s]\n"
     ]
    }
   ],
   "execution_count": 13
  },
  {
   "metadata": {
    "ExecuteTime": {
     "end_time": "2025-08-05T03:58:34.238412Z",
     "start_time": "2025-08-05T03:58:34.237168Z"
    }
   },
   "cell_type": "code",
   "source": "",
   "outputs": [],
   "execution_count": null
  }
 ],
 "metadata": {
  "kernelspec": {
   "display_name": "Python 3",
   "language": "python",
   "name": "python3"
  },
  "language_info": {
   "codemirror_mode": {
    "name": "ipython",
    "version": 3
   },
   "file_extension": ".py",
   "mimetype": "text/x-python",
   "name": "python",
   "nbconvert_exporter": "python",
   "pygments_lexer": "ipython3",
   "version": "3.11.0"
  }
 },
 "nbformat": 4,
 "nbformat_minor": 4
}
